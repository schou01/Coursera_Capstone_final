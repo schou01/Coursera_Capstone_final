{
 "cells": [
  {
   "cell_type": "code",
   "execution_count": null,
   "metadata": {},
   "outputs": [],
   "source": []
  },
  {
   "cell_type": "markdown",
   "metadata": {},
   "source": [
    "This capstone project will be graded by your peers. This capstone project is worth 70% of your total grade. The project will be completed over the course of 2 weeks.  Week 1 submissions will be worth 30% whereas week 2 submissions will be worth 40% of your total grade.\n",
    "\n",
    "For this week, you will required to submit the following:\n",
    "\n",
    "A description of the problem and a discussion of the background. (15 marks)\n",
    "A description of the data and how it will be used to solve the problem. (15 marks)\n",
    "For the second week, the final deliverables of the project will be:\n",
    "\n",
    "A link to your Notebook on your Github repository, showing your code. (15 marks)"
   ]
  },
  {
   "cell_type": "raw",
   "metadata": {},
   "source": [
    "2. A full report consisting of all of the following components (15 marks):\n",
    "\n",
    "-Introduction where you discuss the business problem and who would be interested in this project.\n",
    "-Data where you describe the data that will be used to solve the problem and the source of the data.\n",
    "-Methodology section which represents the main component of the report where you discuss and describe any exploratory data analysis that you did, any inferential statistical testing that you performed, if any, and what machine learnings were used and why.\n",
    "-Results section where you discuss the results.\n",
    "-Discussion section where you discuss any observations you noted and any recommendations you can make based on the results.\n",
    "-Conclusion section where you conclude the report.\n",
    "3. Your choice of a presentation or blogpost. (10 marks)"
   ]
  },
  {
   "cell_type": "markdown",
   "metadata": {},
   "source": [
    "## INTRODUCTION"
   ]
  },
  {
   "cell_type": "markdown",
   "metadata": {},
   "source": [
    "#### Most adults will eventually move to a new location whether it be for work or personal reasons. However finding a place where all of their personal needs are met can be quite the challenge. Figuring out the following can be a lot for one person to handle:\n",
    "#### 1. the average rent in a neighborhood,\n",
    "#### 2. transport amenities (both public and private) like buses and subways,\n",
    "#### 3. best forms of education in terms of schooling(if they have any, as this is a very important choice),\n",
    "#### 4. average commute time from a specific neighborhood to thework place, nearest hospitals,\n",
    "#### 5. crime rates,\n",
    "#### 6. tax rates\n",
    "#### 7. public places like parks, places to have leisure activities like going to restaurants, movie theaters, saunas, gym, etc.,\n",
    "#### There are of course other reasons to research but the above mentioned tend to be the most common when determining a new location for living. In this project, the goal is to meet some of these requirements and guide users to choose at least 1 or more neighborhoods for their consideration during their relocation. By rating the neighborhoods based upon the available amenities they have, we can recommend the neighborhood in a city in a ranked order. This is the overall goal of this project."
   ]
  },
  {
   "cell_type": "markdown",
   "metadata": {},
   "source": [
    "### Target Audience:"
   ]
  },
  {
   "cell_type": "markdown",
   "metadata": {},
   "source": [
    "#### Someone wanting to relocate to a new city, in this case Toronto, ON, Canada.\n",
    "#### Stakeholders:\n",
    "#### 1. Someone who wants to relocate to a new city.\n",
    "#### 2. Myself, Toronto is a particular city that I am interested in visiting/settling in. \n",
    "#### 3. Potential businesses as well could use the information gathered from this project to determine a new location for business."
   ]
  },
  {
   "cell_type": "markdown",
   "metadata": {},
   "source": [
    "## DATA & Description"
   ]
  },
  {
   "cell_type": "markdown",
   "metadata": {},
   "source": [
    "### I use public libraries and API's in this project. I use Foursquare API, and some common Python Libraries for programming.\n",
    "\n",
    "### Foursquare API:\n",
    "\n",
    "#### Foursquare provides a valuable and publically accessible location information like the ameneties in nearby locations. We as programmers use their developer tools to access the required information about the neighborhoods in a city. Using these accessed information we then rank the neighborhoods based on the ameneties they have. These services are free of charge.\n",
    "\n",
    "##### I created a Foursquare developer account, and after that it provides some zip codes inside a city and for each zip code or LatLon info(Latitude and Longitude Points) the details are extracted on the amenities we expect that a neighborhood should have. The radius for this search is then set around the zip code to be around 1km.\n",
    "#### Date Type:- JSON\n",
    "\n",
    "#### Duration:-Not Available\n",
    "\n",
    "#### Description of the data:-\n",
    "#### Location coordinates obtained by Foursquare API calls.\n",
    "\n",
    "#### Source:- (https://foursquare.com/)\n",
    "#### Public Programming Tools:-\n",
    "\n",
    "#### Some public plotting tools are used like Folium to visualize the neighborhoods in the city that we want to relocate. Then based upon the analysis of the Foursquare information, the Folium visualization can be updated to reflect the number of amenities in a neighborhood.\n",
    "\n",
    "#### K-Means Clustering Algorithm on the Data:-\n",
    "\n",
    "#### K-Means Clustering algorithm can be used to group amenities in an area, then we can reduce the number of individual amenities comparisons to be done against each neighborhood. We can do these comparisons against the types of amenities, individually, collectively, or all together."
   ]
  }
 ],
 "metadata": {
  "kernelspec": {
   "display_name": "Python",
   "language": "python",
   "name": "conda-env-python-py"
  },
  "language_info": {
   "codemirror_mode": {
    "name": "ipython",
    "version": 3
   },
   "file_extension": ".py",
   "mimetype": "text/x-python",
   "name": "python",
   "nbconvert_exporter": "python",
   "pygments_lexer": "ipython3",
   "version": "3.6.12"
  }
 },
 "nbformat": 4,
 "nbformat_minor": 4
}
